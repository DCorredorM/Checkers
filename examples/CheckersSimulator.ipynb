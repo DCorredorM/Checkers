{
 "cells": [
  {
   "cell_type": "code",
   "execution_count": 1,
   "id": "29e2d26d",
   "metadata": {},
   "outputs": [],
   "source": [
    "%load_ext autoreload\n",
    "import sys\n",
    "import os\n",
    "os.chdir('..')\n",
    "sys.path.append('../src')\n"
   ]
  },
  {
   "cell_type": "markdown",
   "id": "74d3acff",
   "metadata": {},
   "source": [
    "# Checkers Simulator"
   ]
  },
  {
   "cell_type": "code",
   "execution_count": 2,
   "id": "28b0d3f6",
   "metadata": {},
   "outputs": [],
   "source": [
    "%autoreload 2\n",
    "from gui.simulator_app import *"
   ]
  },
  {
   "cell_type": "code",
   "execution_count": 3,
   "id": "3dc2bad5",
   "metadata": {},
   "outputs": [
    {
     "data": {
      "application/vnd.jupyter.widget-view+json": {
       "model_id": "71bd74e9a12b4f3db3fd8d345de29d7f",
       "version_major": 2,
       "version_minor": 0
      },
      "text/plain": [
       "VBox(children=(Tab(children=(VBox(children=(Dropdown(description='Choose player:', layout=Layout(visibility='v…"
      ]
     },
     "metadata": {},
     "output_type": "display_data"
    }
   ],
   "source": [
    "pm = PlayerManager()\n",
    "pm.display()"
   ]
  },
  {
   "cell_type": "code",
   "execution_count": 10,
   "id": "1eb8671a",
   "metadata": {
    "scrolled": false
   },
   "outputs": [],
   "source": [
    "gc = MultiGame(pm)"
   ]
  },
  {
   "cell_type": "code",
   "execution_count": 11,
   "id": "06659bb9",
   "metadata": {},
   "outputs": [
    {
     "data": {
      "application/vnd.jupyter.widget-view+json": {
       "model_id": "d6d8ec94d6814d14863a13353f60c7d5",
       "version_major": 2,
       "version_minor": 0
      },
      "text/plain": [
       "Tab(children=(VBox(children=(HBox(children=(Button(description='Simulate', icon='atom', style=ButtonStyle(), t…"
      ]
     },
     "metadata": {},
     "output_type": "display_data"
    }
   ],
   "source": [
    "gc.display()"
   ]
  },
  {
   "cell_type": "code",
   "execution_count": 9,
   "id": "8c4274ea",
   "metadata": {},
   "outputs": [],
   "source": [
    "# name = gc.widgets['summary'].value\n",
    "# targets = pd.read_csv(os.path.join(CACHE, 'training_data', name, 'targets.csv'), header=None)"
   ]
  },
  {
   "cell_type": "code",
   "execution_count": null,
   "id": "cf398354",
   "metadata": {},
   "outputs": [],
   "source": [
    "# l = [0] + list(targets[targets[0].isin([-1, 1, 0])].index)\n",
    "# pairs = list(zip(l[:-1], l[1:]))"
   ]
  },
  {
   "cell_type": "code",
   "execution_count": null,
   "id": "74218287",
   "metadata": {},
   "outputs": [],
   "source": [
    "# traj = [targets[0].iloc[i+1:j+1].values for i, j in pairs]"
   ]
  },
  {
   "cell_type": "code",
   "execution_count": null,
   "id": "a23f8b8b",
   "metadata": {},
   "outputs": [],
   "source": [
    "# import matplotlib.pyplot as plt\n",
    "# n=18\n",
    "# plt.plot(range(len(traj[n])), traj[n])"
   ]
  },
  {
   "cell_type": "code",
   "execution_count": null,
   "id": "68b80286",
   "metadata": {},
   "outputs": [],
   "source": []
  }
 ],
 "metadata": {
  "kernelspec": {
   "display_name": "RL38",
   "language": "python",
   "name": "rl38"
  },
  "language_info": {
   "codemirror_mode": {
    "name": "ipython",
    "version": 3
   },
   "file_extension": ".py",
   "mimetype": "text/x-python",
   "name": "python",
   "nbconvert_exporter": "python",
   "pygments_lexer": "ipython3",
   "version": "3.8.2"
  },
  "latex_envs": {
   "LaTeX_envs_menu_present": true,
   "autoclose": false,
   "autocomplete": true,
   "bibliofile": "biblio.bib",
   "cite_by": "apalike",
   "current_citInitial": 1,
   "eqLabelWithNumbers": true,
   "eqNumInitial": 1,
   "hotkeys": {
    "equation": "Ctrl-E",
    "itemize": "Ctrl-I"
   },
   "labels_anchors": false,
   "latex_user_defs": false,
   "report_style_numbering": false,
   "user_envs_cfg": false
  }
 },
 "nbformat": 4,
 "nbformat_minor": 5
}
